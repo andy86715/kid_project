{
 "cells": [
  {
   "cell_type": "code",
   "execution_count": 11,
   "metadata": {
    "collapsed": false
   },
   "outputs": [
    {
     "ename": "SystemExit",
     "evalue": "沒有關鍵字",
     "output_type": "error",
     "traceback": [
      "An exception has occurred, use %tb to see the full traceback.\n",
      "\u001b[0;31mSystemExit\u001b[0m\u001b[0;31m:\u001b[0m 沒有關鍵字\n"
     ]
    },
    {
     "name": "stderr",
     "output_type": "stream",
     "text": [
      "/Users/andy/anaconda/lib/python3.6/site-packages/IPython/core/interactiveshell.py:2889: UserWarning: To exit: use 'exit', 'quit', or Ctrl-D.\n",
      "  warn(\"To exit: use 'exit', 'quit', or Ctrl-D.\", stacklevel=1)\n"
     ]
    }
   ],
   "source": [
    "\n",
    "# coding: utf-8\n",
    "\n",
    "# In[1]:\n",
    "\n",
    "import pandas as pd\n",
    "import jieba\n",
    "import sys\n",
    "from sklearn import feature_extraction\n",
    "from sklearn.feature_extraction.text import TfidfVectorizer\n",
    "from nltk.corpus import stopwords\n",
    "from tkinter import filedialog\n",
    "from tkinter import *\n",
    "\n",
    "root = Tk()\n",
    "root.filename =  filedialog.askopenfilename(initialdir = \"/\",title = \"Select file\",filetypes = ((\"xlsx files\",\"*.xlsx\"),(\"all files\",\"*.*\")))\n",
    "df = pd.read_excel(root.filename)\n",
    "root.mainloop()\n",
    "\n",
    "df1 = (df[df['是否出現關鍵字']==\"有\"])\n",
    "if len(df1) == 0:\n",
    "    sys.exit(\"沒有關鍵字\")\n",
    "    \n",
    "df2 = (df1[df1['回文數量']>=10])\n",
    "if len(df2) == 0:\n",
    "    sys.exit(\"沒有回文數量大於門檻的文章\")\n",
    "a=[]\n",
    "for i in df2['文章內容']:\n",
    "    a.append(i)\n",
    "b=[]\n",
    "for k in df2['IP國家']:\n",
    "    b.append(k)\n",
    "c=[]\n",
    "for l in df2['IP地區']:\n",
    "    c.append(l)\n",
    "d=[]\n",
    "for x in df2['文章ID']:\n",
    "    d.append(x)\n",
    "e = list(zip(a,b,c,d))\n",
    "\n",
    "# 結巴內文和加入stopwords\n",
    "stop=stopwords.words('/Users/andy/Documents/python/jieba/stop_words2.txt')\n",
    "jieba.set_dictionary('/Users/andy/Documents/python/jieba/dict.txt.big.txt')\n",
    "g=[]\n",
    "for k in e:\n",
    "    comment_text = k[0]\n",
    "    cut_text = \" \".join(jieba.cut(comment_text))\n",
    "    g.append(cut_text)\n",
    "df4=pd.DataFrame(g)\n",
    "# df2['jieba']=df4[0]\n",
    "\n",
    "# 計算每個post前五關鍵詞,tfidf\n",
    "vectorizer = TfidfVectorizer()\n",
    "tfidf = vectorizer.fit_transform(df4[0])\n",
    "word111 = []\n",
    "word222 = []\n",
    "words2 = vectorizer.get_feature_names()\n",
    "for i in range(len(df4[0])):\n",
    "    temp_array = tfidf[i,:].toarray()\n",
    "    for l in temp_array:\n",
    "        word111.append([(words2[x]) for x in (l*-1).argsort()][:50])\n",
    "        word222.append([(l[x]) for x in (l*-1).argsort()][:50])\n",
    "# 每篇文章的前五關鍵詞\n",
    "keyword = []\n",
    "number = []\n",
    "for i in range(1,len(word111)+1):\n",
    "    keyword.append(\"keyword\"+str(i))\n",
    "    number.append(\"number\"+str(i))\n",
    "df3 = pd.DataFrame(word111)\n",
    "df3_1 = pd.DataFrame(word222)\n",
    "df3_2 = df3.T\n",
    "df3_3 = df3_1.T\n",
    "df3_2.columns = keyword\n",
    "df3_3.columns = number\n",
    "df3_4 = df3_2.join(df3_3)\n",
    "df3_4.to_excel(\"keyword.xlsx\")"
   ]
  }
 ],
 "metadata": {
  "kernelspec": {
   "display_name": "Python 3",
   "language": "python",
   "name": "python3"
  },
  "language_info": {
   "codemirror_mode": {
    "name": "ipython",
    "version": 3
   },
   "file_extension": ".py",
   "mimetype": "text/x-python",
   "name": "python",
   "nbconvert_exporter": "python",
   "pygments_lexer": "ipython3",
   "version": "3.6.3"
  }
 },
 "nbformat": 4,
 "nbformat_minor": 2
}
