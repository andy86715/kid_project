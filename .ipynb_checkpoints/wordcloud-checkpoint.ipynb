{
 "cells": [
  {
   "cell_type": "code",
   "execution_count": 1,
   "metadata": {
    "collapsed": false
   },
   "outputs": [
    {
     "ename": "SyntaxError",
     "evalue": "invalid syntax (<ipython-input-1-2b49069cbd74>, line 61)",
     "output_type": "error",
     "traceback": [
      "\u001b[0;36m  File \u001b[0;32m\"<ipython-input-1-2b49069cbd74>\"\u001b[0;36m, line \u001b[0;32m61\u001b[0m\n\u001b[0;31m    plt.title(k[1]+\",\"+k[2],,fontproperties=font)\u001b[0m\n\u001b[0m                            ^\u001b[0m\n\u001b[0;31mSyntaxError\u001b[0m\u001b[0;31m:\u001b[0m invalid syntax\n"
     ]
    }
   ],
   "source": [
    "\n",
    "# coding: utf-8\n",
    "\n",
    "# In[ ]:\n",
    "\n",
    "import pandas as pd\n",
    "import matplotlib.pyplot as plt\n",
    "from wordcloud import WordCloud \n",
    "import jieba\n",
    "from sklearn import feature_extraction\n",
    "from sklearn.feature_extraction.text import TfidfVectorizer\n",
    "from matplotlib.font_manager import FontProperties\n",
    "from nltk.corpus import stopwords\n",
    "from tkinter import filedialog\n",
    "from tkinter import *\n",
    "from tqdm import tqdm\n",
    "import sys\n",
    "\n",
    "root = Tk()\n",
    "root.filename =  filedialog.askopenfilename(initialdir = \"/\",title = \"Select file\",filetypes = ((\"xlsx files\",\"*.xlsx\"),(\"all files\",\"*.*\")))\n",
    "df = pd.read_excel(root.filename)\n",
    "root.mainloop()\n",
    "\n",
    "df1 = (df[df['是否出現關鍵字']==\"有\"])\n",
    "if len(df1) == 0:\n",
    "    sys.exit(\"沒有關鍵字\")\n",
    "    \n",
    "df2 = (df1[df1['回文數量']>=10])\n",
    "if len(df2) == 0:\n",
    "    sys.exit(\"沒有回文數量大於門檻的文章\")\n",
    "    \n",
    "a=[]\n",
    "for i in df2['文章內容']:\n",
    "    a.append(i)\n",
    "b=[]\n",
    "for k in df2['IP國家']:\n",
    "    b.append(k)\n",
    "c=[]\n",
    "for l in df2['IP地區']:\n",
    "    c.append(l)\n",
    "d=[]\n",
    "for x in df2['文章ID']:\n",
    "    d.append(x)\n",
    "e = list(zip(a,b,c,d))\n",
    "\n",
    "for k in tqdm(e):\n",
    "    comment_text = k[0]\n",
    "    cut_text = \" \".join(jieba.cut(comment_text))\n",
    "    font = FontProperties(fname=r\"/System/Library/Fonts/STHeiti Light.ttc\",size=12)\n",
    "    wordcloud = WordCloud(font_path=r\"/System/Library/Fonts/STHeiti Light.ttc\",\n",
    "                          background_color=\"white\",\n",
    "                          relative_scaling = 1.0,\n",
    "                          margin=2,\n",
    "                          width = 400, #調整大小\n",
    "                          height = 200, #調整大小\n",
    "                          stopwords = {'to', 'of'} \n",
    "                          ).generate(cut_text)\n",
    "    plt.imshow(wordcloud)\n",
    "    plt.tight_layout(pad=0)\n",
    "    plt.axis('off')\n",
    "    plt.title(k[1]+\",\"+k[2],,fontproperties=font)\n",
    "    plt.savefig(fname=str(k[3])+\".png\",format=\"png\")\n",
    "print(\"文字雲圖片已產生\")\n"
   ]
  }
 ],
 "metadata": {
  "kernelspec": {
   "display_name": "Python 3",
   "language": "python",
   "name": "python3"
  },
  "language_info": {
   "codemirror_mode": {
    "name": "ipython",
    "version": 3
   },
   "file_extension": ".py",
   "mimetype": "text/x-python",
   "name": "python",
   "nbconvert_exporter": "python",
   "pygments_lexer": "ipython3",
   "version": "3.6.3"
  }
 },
 "nbformat": 4,
 "nbformat_minor": 2
}
